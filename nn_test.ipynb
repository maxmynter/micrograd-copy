{
 "cells": [
  {
   "cell_type": "code",
   "execution_count": 1,
   "metadata": {},
   "outputs": [],
   "source": [
    "import random\n",
    "import math\n",
    "import numpy as np"
   ]
  },
  {
   "cell_type": "code",
   "execution_count": 2,
   "metadata": {},
   "outputs": [],
   "source": [
    "class Value():\n",
    "    def __init__(self, value, _children=()):\n",
    "        self.value = value\n",
    "        self.gradient = 0\n",
    "\n",
    "        self._backward = lambda: None\n",
    "        self._previous = set(_children)\n",
    "    \n",
    "    def __add__(self, other):\n",
    "        other = other if isinstance(other,Value) else Value(other)\n",
    "        out = Value(self.value + other.value, (self,other))\n",
    "\n",
    "        def _backward():\n",
    "            self.gradient += out.gradient\n",
    "            other.gradient += out.gradient\n",
    "        \n",
    "        out._backward = _backward\n",
    "        return out\n",
    "    \n",
    "    def __mul__(self,other):\n",
    "        other = other if isinstance(other,Value) else Value(other)\n",
    "        out = Value(self.value * other.value, (self,other))\n",
    "\n",
    "        def _backward():\n",
    "            self.gradient += other.value * out.gradient\n",
    "            other.gradient += self.value * out.gradient \n",
    "\n",
    "        out._backward = _backward\n",
    "        return out\n",
    "    \n",
    "    def __pow__(self,other):\n",
    "        out = Value(self.value**other , (self,))\n",
    "\n",
    "        def _backward():\n",
    "            self.gradient += (other *self.value**(other-1)) * out.gradient\n",
    "        out._backward = _backward\n",
    "        return out\n",
    "\n",
    "    def relu(self):\n",
    "        out = Value((self.value>0)* self.value, (self,) )\n",
    "\n",
    "        def _backward():\n",
    "            self.gradient += (self.value>0)*out.gradient\n",
    "        out._backward = _backward\n",
    "        return out\n",
    "    \n",
    "    def __radd__(self, other): \n",
    "        # use __add__, i.e. other + self for right addition\n",
    "        return self + other\n",
    "    \n",
    "    def __sub__(self, other): # self - other\n",
    "        return self + (-other)\n",
    "\n",
    "    def __rsub__(self, other): # other - self\n",
    "        return other + (-self)\n",
    "    \n",
    "    def __neg__(self): # -self\n",
    "        return self * -1\n",
    "    \n",
    "    def __truediv__(self, other): # self / other\n",
    "        return self * other**-1\n",
    "\n",
    "    def __rtruediv__(self, other): # other / self\n",
    "        return other * self**-1\n",
    "    \n",
    "    def __rmul__(self, other): # other * self\n",
    "        return self * other\n",
    "    \n",
    "    def __repr__(self):\n",
    "        return f\"Value(data={self.value}, gradient={self.gradient})\"\n",
    "    \n",
    "    def backward(self):\n",
    "        topology = []\n",
    "        visited = set()\n",
    "        def build_topology(v):\n",
    "            if v not in visited:\n",
    "                visited.add(v)\n",
    "                for child in v._previous:\n",
    "                    build_topology(child)\n",
    "                topology.append(v)\n",
    "        build_topology(self)\n",
    "        self.gradient = 1\n",
    "        for v in reversed(topology):\n",
    "            v._backward()"
   ]
  },
  {
   "cell_type": "code",
   "execution_count": 3,
   "metadata": {},
   "outputs": [],
   "source": [
    "class Module:\n",
    "    def zero_gradient(self):\n",
    "        for param in self.parameters():\n",
    "            param.gradient = 0\n",
    "\n",
    "    def parameters(self):\n",
    "        return []"
   ]
  },
  {
   "cell_type": "code",
   "execution_count": 4,
   "metadata": {},
   "outputs": [],
   "source": [
    "class Neuron(Module):\n",
    "    def __init__(self, n_input, is_nonlinear=True):\n",
    "        self.weights = [Value(random.uniform(-1,1)) for _ in range(n_input)]\n",
    "        self.bias = Value(0)\n",
    "        self.is_nonlinear = is_nonlinear\n",
    "    def __call__(self, x):\n",
    "        activation = sum((weight_i*x_i for weight_i, x_i in zip(self.weights,x)), self.bias)\n",
    "        return activation.relu() if self.is_nonlinear else activation\n",
    "    \n",
    "    def parameters(self):\n",
    "        return self.weights + [self.bias]\n"
   ]
  },
  {
   "cell_type": "code",
   "execution_count": 5,
   "metadata": {},
   "outputs": [],
   "source": [
    "class Layer(Module):\n",
    "    def __init__(self, n_inputs, n_outputs, **kwargs):\n",
    "        self.neurons = [Neuron(n_inputs, **kwargs) for _ in range(n_outputs)]\n",
    "\n",
    "    def __call__(self, x):\n",
    "        out = [neuron(x) for neuron in self.neurons]\n",
    "        return out[0] if len(out) == 1 else out\n",
    "    \n",
    "    def parameters(self):\n",
    "        return [p for n in self.neurons for p in n.parameters()]\n",
    "\n"
   ]
  },
  {
   "cell_type": "code",
   "execution_count": 6,
   "metadata": {},
   "outputs": [],
   "source": [
    "def max_margin_loss(target, predicted):\n",
    "    out = (1 + -target*predicted).relu() \n",
    "    return out"
   ]
  },
  {
   "cell_type": "code",
   "execution_count": 7,
   "metadata": {},
   "outputs": [],
   "source": [
    "def rmse(target, predicted):\n",
    "    return ((target - predicted)**2)**(1/2)"
   ]
  },
  {
   "cell_type": "code",
   "execution_count": 8,
   "metadata": {},
   "outputs": [],
   "source": [
    "class Network(Module):\n",
    "    def __init__(self, n_inputs, layer_sizes, loss_function=rmse, output_transform=lambda x:x):\n",
    "        size = [n_inputs] + layer_sizes\n",
    "        self.layers = [Layer(size[i], size[i+1], is_nonlinear= i != len(layer_sizes) -1) for i in range(len(layer_sizes))]\n",
    "        self.loss_function= loss_function\n",
    "        self.output_transform =output_transform\n",
    "\n",
    "    def parameters(self):\n",
    "        return [p for layer in self.layers for p in layer.parameters()]\n",
    "        \n",
    "\n",
    "    def forward(self,x):\n",
    "        for layer in self.layers:\n",
    "            x = layer(x)\n",
    "        return self.output_transform(x)\n",
    "    \n",
    "    def loss(self, x, target):\n",
    "        if isinstance(x[0], list):\n",
    "            y_hat = [self.forward(xi) for xi in x]\n",
    "            loss = [self.loss_function(target[i], y_hat[i]) for i in range(len(target))]\n",
    "            return sum(loss)\n",
    "        else:\n",
    "            y_hat = self.forward(x)\n",
    "            loss = self.loss_function(target, y_hat)\n",
    "        return loss\n",
    "    \n",
    "    def train(self, x, target, learning_rate=0.01):\n",
    "        self.zero_gradient()\n",
    "        losses = [ ]\n",
    "        for sample_i in range(len(x)):\n",
    "            losses.append(self.loss(x[sample_i], target[sample_i]))\n",
    "        total_loss = sum(losses)\n",
    "        total_loss.backward()\n",
    "        for param in self.parameters():\n",
    "            param.value -= learning_rate*param.gradient\n",
    "        return total_loss.value"
   ]
  },
  {
   "cell_type": "code",
   "execution_count": null,
   "metadata": {},
   "outputs": [],
   "source": []
  },
  {
   "cell_type": "code",
   "execution_count": 16,
   "metadata": {},
   "outputs": [],
   "source": [
    "from sklearn.datasets import make_circles\n",
    "data, target = make_circles(100)\n",
    "net = Network(2, [1,5,1], loss_function=rmse)"
   ]
  },
  {
   "cell_type": "code",
   "execution_count": 19,
   "metadata": {},
   "outputs": [
    {
     "name": "stdout",
     "output_type": "stream",
     "text": [
      "Epoch [0/100], loss 15.000000000000009 accuracy 0.0\n",
      "Epoch [3/100], loss 14.325000000000014 accuracy 0.0\n",
      "Epoch [6/100], loss 13.650000000000011 accuracy 0.0\n",
      "Epoch [9/100], loss 12.975000000000016 accuracy 0.0\n",
      "Epoch [12/100], loss 12.300000000000013 accuracy 0.0\n",
      "Epoch [15/100], loss 11.625000000000014 accuracy 0.0\n",
      "Epoch [18/100], loss 10.95000000000001 accuracy 0.0\n",
      "Epoch [21/100], loss 10.275000000000016 accuracy 0.0\n",
      "Epoch [24/100], loss 9.600000000000017 accuracy 0.0\n",
      "Epoch [27/100], loss 8.925000000000018 accuracy 0.0\n",
      "Epoch [30/100], loss 8.250000000000018 accuracy 0.0\n",
      "Epoch [33/100], loss 7.575000000000021 accuracy 0.0\n",
      "Epoch [36/100], loss 6.900000000000016 accuracy 0.0\n",
      "Epoch [39/100], loss 6.225000000000017 accuracy 0.0\n",
      "Epoch [42/100], loss 5.550000000000015 accuracy 0.0\n",
      "Epoch [45/100], loss 4.875000000000016 accuracy 0.0\n",
      "Epoch [48/100], loss 4.200000000000017 accuracy 0.0\n",
      "Epoch [51/100], loss 3.5250000000000177 accuracy 0.0\n",
      "Epoch [54/100], loss 7.990000000000028 accuracy 0.0\n",
      "Epoch [57/100], loss 7.315000000000026 accuracy 0.0\n",
      "Epoch [60/100], loss 6.640000000000025 accuracy 0.0\n",
      "Epoch [63/100], loss 5.965000000000025 accuracy 0.0\n",
      "Epoch [66/100], loss 5.290000000000029 accuracy 0.0\n",
      "Epoch [69/100], loss 4.615000000000029 accuracy 0.0\n",
      "Epoch [72/100], loss 3.9400000000000275 accuracy 0.0\n",
      "Epoch [75/100], loss 3.265000000000027 accuracy 0.0\n",
      "Epoch [78/100], loss 3.09999999999997 accuracy 0.5\n",
      "Epoch [81/100], loss 2.4249999999999687 accuracy 0.5\n",
      "Epoch [84/100], loss 2.0199999999999734 accuracy 0.5\n",
      "Epoch [87/100], loss 2.9630000000000045 accuracy 0.5\n",
      "Epoch [90/100], loss 2.9360000000000044 accuracy 0.5\n",
      "Epoch [93/100], loss 2.5470000000000046 accuracy 0.5\n",
      "Epoch [96/100], loss 2.520000000000005 accuracy 0.5\n",
      "Epoch [99/100], loss 2.4930000000000048 accuracy 0.5\n"
     ]
    }
   ],
   "source": [
    "n_epochs =100\n",
    "batch_size = 5\n",
    "for e in range(n_epochs):\n",
    "    lr = 1.0 - 0.9*e/n_epochs\n",
    "    for b in range(0, len(data), batch_size):\n",
    "        loss = net.train(data[b:b+batch_size], target[b:b+batch_size], learning_rate=lr)\n",
    "    if e%3 == 0:\n",
    "        predictions = list(map(net.forward,data))\n",
    "        true_predict = [round(predictions[i].value) == target[i] for i in range(len(data))]\n",
    "        print(f\"Epoch [{e}/{n_epochs}], loss {loss} accuracy {sum(true_predict)/ len(data)}\")"
   ]
  },
  {
   "cell_type": "code",
   "execution_count": 20,
   "metadata": {},
   "outputs": [
    {
     "data": {
      "text/plain": [
       "Value(data=0.3840000000000048, gradient=0)"
      ]
     },
     "execution_count": 20,
     "metadata": {},
     "output_type": "execute_result"
    }
   ],
   "source": [
    "net.forward(data[0])"
   ]
  },
  {
   "cell_type": "code",
   "execution_count": 13,
   "metadata": {},
   "outputs": [
    {
     "data": {
      "text/plain": [
       "[3]"
      ]
     },
     "execution_count": 13,
     "metadata": {},
     "output_type": "execute_result"
    }
   ],
   "source": [
    "list(map(sum, [[1,2]]))"
   ]
  },
  {
   "cell_type": "code",
   "execution_count": null,
   "metadata": {},
   "outputs": [],
   "source": []
  }
 ],
 "metadata": {
  "kernelspec": {
   "display_name": ".venv",
   "language": "python",
   "name": "python3"
  },
  "language_info": {
   "codemirror_mode": {
    "name": "ipython",
    "version": 3
   },
   "file_extension": ".py",
   "mimetype": "text/x-python",
   "name": "python",
   "nbconvert_exporter": "python",
   "pygments_lexer": "ipython3",
   "version": "3.11.3"
  },
  "orig_nbformat": 4
 },
 "nbformat": 4,
 "nbformat_minor": 2
}
