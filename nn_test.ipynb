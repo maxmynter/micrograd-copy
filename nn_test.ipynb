{
 "cells": [
  {
   "cell_type": "code",
   "execution_count": 20,
   "metadata": {},
   "outputs": [],
   "source": [
    "import random"
   ]
  },
  {
   "cell_type": "code",
   "execution_count": 91,
   "metadata": {},
   "outputs": [],
   "source": [
    "class Value():\n",
    "    def __init__(self, value, _children=()):\n",
    "        self.value = value\n",
    "        self.gradient = 0\n",
    "\n",
    "        self._backward = lambda: None\n",
    "        self._previous = set(_children)\n",
    "    \n",
    "    def __add__(self, other):\n",
    "        other = other if isinstance(other,Value) else Value(other)\n",
    "        out = Value(self.value + other.value, (self,other))\n",
    "\n",
    "        def _backward():\n",
    "            self.gradient += out.gradient\n",
    "            other.gradient += out.gradient\n",
    "        \n",
    "        out._backward = _backward\n",
    "        return out\n",
    "    \n",
    "    def __radd__(self, other): \n",
    "        # use __add__, i.e. other + self for right addition\n",
    "        return self + other\n",
    "    \n",
    "    def __mul__(self,other):\n",
    "        other = other if isinstance(other,Value) else Value(other)\n",
    "        out = Value(self.value * other.value, (self,other))\n",
    "\n",
    "        def _backward():\n",
    "            self.gradient = other.value * out.gradient\n",
    "            other.gradient = self.value * out.gradient \n",
    "\n",
    "        out._backward = _backward\n",
    "        return out\n",
    "    \n",
    "    def __pow__(self,other):\n",
    "        out = Value(self.value**other , (self,))\n",
    "\n",
    "        def _backward():\n",
    "            self.gradient = (other *self.value**(other-1)) * self.gradient\n",
    "        out._backward = _backward\n",
    "        return out\n",
    "\n",
    "    def relu(self):\n",
    "        out = Value((self.value>0)* self.value, (self,) )\n",
    "\n",
    "        def _backward():\n",
    "            self.gradient = (self.value>0)*self.gradient\n",
    "        out._backward = _backward\n",
    "        return out"
   ]
  },
  {
   "cell_type": "code",
   "execution_count": 76,
   "metadata": {},
   "outputs": [],
   "source": [
    "class Module:\n",
    "    def zero_gradient(self):\n",
    "        for param in self.parameters():\n",
    "            param.gradient = 0"
   ]
  },
  {
   "cell_type": "code",
   "execution_count": 77,
   "metadata": {},
   "outputs": [],
   "source": [
    "class Neuron(Module):\n",
    "    def __init__(self, n_input, is_nonlinear=True):\n",
    "        self.weigths = [Value(random.uniform(-1,1)) for _ in range(n_input)]\n",
    "        self.bias = Value(0)\n",
    "        self.is_nonlinear = is_nonlinear\n",
    "    def __call__(self, x):\n",
    "        activation = sum(weight_i*x_i for weight_i, x_i in zip(self.weigths,x))\n",
    "        return activation.relu() if self.is_nonlinear else activation\n"
   ]
  },
  {
   "cell_type": "code",
   "execution_count": 78,
   "metadata": {},
   "outputs": [],
   "source": [
    "class Layer(Module):\n",
    "    def __init__(self, n_inputs, n_outputs, **kwargs):\n",
    "        self.neurons = [Neuron(n_inputs, **kwargs) for _ in range(n_outputs)]\n",
    "\n",
    "    def __call__(self, x):\n",
    "        out = [neuron(x) for neuron in self.neurons]\n",
    "        return out[0] if len(out) == 1 else out\n",
    "\n"
   ]
  },
  {
   "cell_type": "code",
   "execution_count": 79,
   "metadata": {},
   "outputs": [],
   "source": [
    "def mse(target, value):\n",
    "    return sum([target[i]-value[i]**2 for i in range(len(target))])"
   ]
  },
  {
   "cell_type": "code",
   "execution_count": 87,
   "metadata": {},
   "outputs": [],
   "source": [
    "class Network(Module):\n",
    "    def __init__(self, n_inputs, layer_sizes,loss_function=mse):\n",
    "        size = [n_inputs] + layer_sizes\n",
    "        self.layers = [Layer(size[i], size[i+1], is_nonlinear= i != len(layer_sizes) -1) for i in range(len(layer_sizes))]\n",
    "        self.loss_function= loss_function\n",
    "        \n",
    "\n",
    "    def forward(self,x):\n",
    "        for layer in self.layers:\n",
    "            x = layer(x)\n",
    "        return x\n",
    "    \n",
    "    def loss(self, x, target):\n",
    "        y_hat = self.forward(x)\n",
    "        loss = Value(self.loss_function(target, y_hat))\n",
    "        return loss"
   ]
  },
  {
   "cell_type": "code",
   "execution_count": 92,
   "metadata": {},
   "outputs": [],
   "source": [
    "net = Network(4, [6,6,2])"
   ]
  },
  {
   "cell_type": "code",
   "execution_count": 93,
   "metadata": {},
   "outputs": [
    {
     "data": {
      "text/plain": [
       "[0, 0]"
      ]
     },
     "execution_count": 93,
     "metadata": {},
     "output_type": "execute_result"
    }
   ],
   "source": [
    "[x.gradient for x in net.forward([1,2,3,4])]"
   ]
  },
  {
   "cell_type": "code",
   "execution_count": 94,
   "metadata": {},
   "outputs": [
    {
     "ename": "TypeError",
     "evalue": "'Value' object is not iterable",
     "output_type": "error",
     "traceback": [
      "\u001b[0;31m---------------------------------------------------------------------------\u001b[0m",
      "\u001b[0;31mTypeError\u001b[0m                                 Traceback (most recent call last)",
      "Cell \u001b[0;32mIn[94], line 1\u001b[0m\n\u001b[0;32m----> 1\u001b[0m net\u001b[39m.\u001b[39;49mloss([\u001b[39m1\u001b[39;49m,\u001b[39m2\u001b[39;49m], [\u001b[39m1\u001b[39;49m,\u001b[39m1\u001b[39;49m])\n",
      "Cell \u001b[0;32mIn[87], line 15\u001b[0m, in \u001b[0;36mNetwork.loss\u001b[0;34m(self, x, target)\u001b[0m\n\u001b[1;32m     13\u001b[0m \u001b[39mdef\u001b[39;00m \u001b[39mloss\u001b[39m(\u001b[39mself\u001b[39m, x, target):\n\u001b[1;32m     14\u001b[0m     y_hat \u001b[39m=\u001b[39m \u001b[39mself\u001b[39m\u001b[39m.\u001b[39mforward(x)\n\u001b[0;32m---> 15\u001b[0m     loss \u001b[39m=\u001b[39m Value(\u001b[39mself\u001b[39;49m\u001b[39m.\u001b[39;49mloss_function(target, y_hat))\n\u001b[1;32m     16\u001b[0m     \u001b[39mreturn\u001b[39;00m loss\n",
      "Cell \u001b[0;32mIn[79], line 2\u001b[0m, in \u001b[0;36mmse\u001b[0;34m(target, value)\u001b[0m\n\u001b[1;32m      1\u001b[0m \u001b[39mdef\u001b[39;00m \u001b[39mmse\u001b[39m(target, value):\n\u001b[0;32m----> 2\u001b[0m     \u001b[39mreturn\u001b[39;00m \u001b[39msum\u001b[39m([target[i]\u001b[39m-\u001b[39;49mvalue[i]\u001b[39m*\u001b[39;49m\u001b[39m*\u001b[39;49m\u001b[39m2\u001b[39;49m \u001b[39mfor\u001b[39;49;00m i \u001b[39min\u001b[39;49;00m \u001b[39mrange\u001b[39;49m(\u001b[39mlen\u001b[39;49m(target))])\n",
      "Cell \u001b[0;32mIn[79], line 2\u001b[0m, in \u001b[0;36m<listcomp>\u001b[0;34m(.0)\u001b[0m\n\u001b[1;32m      1\u001b[0m \u001b[39mdef\u001b[39;00m \u001b[39mmse\u001b[39m(target, value):\n\u001b[0;32m----> 2\u001b[0m     \u001b[39mreturn\u001b[39;00m \u001b[39msum\u001b[39m([target[i]\u001b[39m-\u001b[39mvalue[i]\u001b[39m*\u001b[39;49m\u001b[39m*\u001b[39;49m\u001b[39m2\u001b[39;49m \u001b[39mfor\u001b[39;00m i \u001b[39min\u001b[39;00m \u001b[39mrange\u001b[39m(\u001b[39mlen\u001b[39m(target))])\n",
      "Cell \u001b[0;32mIn[91], line 36\u001b[0m, in \u001b[0;36mValue.__pow__\u001b[0;34m(self, other)\u001b[0m\n\u001b[1;32m     35\u001b[0m \u001b[39mdef\u001b[39;00m \u001b[39m__pow__\u001b[39m(\u001b[39mself\u001b[39m,other):\n\u001b[0;32m---> 36\u001b[0m     out \u001b[39m=\u001b[39m Value(\u001b[39mself\u001b[39;49m\u001b[39m.\u001b[39;49mvalue\u001b[39m*\u001b[39;49m\u001b[39m*\u001b[39;49mother , (\u001b[39mself\u001b[39;49m))\n\u001b[1;32m     38\u001b[0m     \u001b[39mdef\u001b[39;00m \u001b[39m_backward\u001b[39m():\n\u001b[1;32m     39\u001b[0m         \u001b[39mself\u001b[39m\u001b[39m.\u001b[39mgradient \u001b[39m=\u001b[39m (other \u001b[39m*\u001b[39m\u001b[39mself\u001b[39m\u001b[39m.\u001b[39mvalue\u001b[39m*\u001b[39m\u001b[39m*\u001b[39m(other\u001b[39m-\u001b[39m\u001b[39m1\u001b[39m)) \u001b[39m*\u001b[39m \u001b[39mself\u001b[39m\u001b[39m.\u001b[39mgradient\n",
      "Cell \u001b[0;32mIn[91], line 7\u001b[0m, in \u001b[0;36mValue.__init__\u001b[0;34m(self, value, _children)\u001b[0m\n\u001b[1;32m      4\u001b[0m \u001b[39mself\u001b[39m\u001b[39m.\u001b[39mgradient \u001b[39m=\u001b[39m \u001b[39m0\u001b[39m\n\u001b[1;32m      6\u001b[0m \u001b[39mself\u001b[39m\u001b[39m.\u001b[39m_backward \u001b[39m=\u001b[39m \u001b[39mlambda\u001b[39;00m: \u001b[39mNone\u001b[39;00m\n\u001b[0;32m----> 7\u001b[0m \u001b[39mself\u001b[39m\u001b[39m.\u001b[39m_previous \u001b[39m=\u001b[39m \u001b[39mset\u001b[39m(_children)\n",
      "\u001b[0;31mTypeError\u001b[0m: 'Value' object is not iterable"
     ]
    }
   ],
   "source": [
    "net.loss([1,2], [1,1])"
   ]
  },
  {
   "cell_type": "code",
   "execution_count": null,
   "metadata": {},
   "outputs": [],
   "source": []
  }
 ],
 "metadata": {
  "kernelspec": {
   "display_name": ".venv",
   "language": "python",
   "name": "python3"
  },
  "language_info": {
   "codemirror_mode": {
    "name": "ipython",
    "version": 3
   },
   "file_extension": ".py",
   "mimetype": "text/x-python",
   "name": "python",
   "nbconvert_exporter": "python",
   "pygments_lexer": "ipython3",
   "version": "3.11.3"
  },
  "orig_nbformat": 4
 },
 "nbformat": 4,
 "nbformat_minor": 2
}
